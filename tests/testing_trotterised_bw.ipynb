{
 "cells": [
  {
   "cell_type": "markdown",
   "id": "09821bb2",
   "metadata": {},
   "source": [
    "# Testing construction of Trotterised brickwall cirucit"
   ]
  },
  {
   "cell_type": "markdown",
   "id": "c2182b1a",
   "metadata": {},
   "source": [
    "New implemented method vs Isabel's"
   ]
  },
  {
   "cell_type": "code",
   "execution_count": null,
   "id": "045f6fb2",
   "metadata": {},
   "outputs": [],
   "source": [
    "%load_ext autoreload\n",
    "%autoreload 2"
   ]
  },
  {
   "cell_type": "code",
   "execution_count": null,
   "id": "aa32e4f4",
   "metadata": {},
   "outputs": [],
   "source": [
    "import jax\n",
    "\n",
    "jax.config.update(\"jax_enable_x64\", True)"
   ]
  },
  {
   "cell_type": "code",
   "execution_count": null,
   "id": "ed26e70a",
   "metadata": {},
   "outputs": [],
   "source": [
    "from ropt_aqc.initialise_hamiltonians import get_hamiltonian_terms, build_matrix_from_terms\n",
    "num_sites = 6\n",
    "degree = 2\n",
    "n_id_layers = 0"
   ]
  },
  {
   "cell_type": "markdown",
   "id": "de9b6efb",
   "metadata": {},
   "source": [
    "Ising 1D"
   ]
  },
  {
   "cell_type": "code",
   "execution_count": null,
   "id": "26c73e6c",
   "metadata": {},
   "outputs": [],
   "source": [
    "# Ising-1d\n",
    "J=1.\n",
    "g=0.75\n",
    "h=0.6\n",
    "evolution_time = 2.0\n",
    "n_repetitions = 5\n",
    "system = 'ising-1d'\n",
    "\n",
    "terms, params = get_hamiltonian_terms(num_qubits=num_sites, system=system, J=J, g=g, h=h)\n",
    "\n",
    "J = params['J']\n",
    "h = params['h']\n",
    "g = params['g']"
   ]
  },
  {
   "cell_type": "code",
   "execution_count": null,
   "id": "bfd264e9",
   "metadata": {},
   "outputs": [],
   "source": [
    "# Isabel's code\n",
    "from ropt_aqc.spin_systems import get_brickwall_trotter_gates_spin_chain\n",
    "from ropt_aqc.circuit_building import transform_to_bw_qc_unitarygate\n",
    "\n",
    "gates_bw = get_brickwall_trotter_gates_spin_chain(t=evolution_time, n_sites=num_sites, n_repetitions=n_repetitions, hamiltonian=system, degree=degree, J=J, g=g, h=h)\n",
    "\n",
    "bw_qc = transform_to_bw_qc_unitarygate(num_sites=num_sites, system = system, gates=gates_bw, pauli_terms=terms)\n",
    "depth_initial = bw_qc.depth()\n",
    "bw_qc.draw('mpl')"
   ]
  },
  {
   "cell_type": "code",
   "execution_count": null,
   "id": "5fddf440",
   "metadata": {},
   "outputs": [],
   "source": [
    "# my code\n",
    "from ropt_aqc.trotterised_bw_cirucit import get_trotterised_gates, build_make_gate\n",
    "\n",
    "make_gate_fn = build_make_gate(system, J=J, g=g, h=h)\n",
    "\n",
    "gates_2 = get_trotterised_gates(evolution_time, num_sites, n_repetitions, degree, system, make_gate_fn=make_gate_fn, use_TN=False)\n",
    "bw_qc_2 = transform_to_bw_qc_unitarygate(num_sites=num_sites, system = system, gates=gates_2, pauli_terms=terms)\n",
    "depth_initial_2= bw_qc_2.depth()\n",
    "bw_qc_2.draw('mpl')"
   ]
  },
  {
   "cell_type": "code",
   "execution_count": null,
   "id": "d8dc50fd",
   "metadata": {},
   "outputs": [],
   "source": [
    "# similarity\n",
    "from qiskit.quantum_info import Operator\n",
    "\n",
    "U1 = Operator(bw_qc)\n",
    "U2 = Operator(bw_qc_2)\n",
    "\n",
    "same = U1.equiv(U2)  # returns True if unitaries are equivalent up to global phase\n",
    "print(same)\n",
    "same2 = bw_qc == bw_qc_2\n",
    "print(same2)\n"
   ]
  },
  {
   "cell_type": "markdown",
   "id": "afc583d5",
   "metadata": {},
   "source": [
    "Heisenberg"
   ]
  },
  {
   "cell_type": "code",
   "execution_count": null,
   "id": "44064103",
   "metadata": {},
   "outputs": [],
   "source": [
    "# Heisenberg\n",
    "t = 0.25\n",
    "h = 0.75\n",
    "system = 'heisenberg'\n",
    "\n",
    "terms_h, params_h = get_hamiltonian_terms(num_qubits=num_sites, system=system, J=[1.0, 1.0, -0.5], h=[0.75, 0.0, 0.0])\n",
    "\n",
    "J= params_h['J']\n",
    "h= params_h['h']"
   ]
  },
  {
   "cell_type": "code",
   "execution_count": null,
   "id": "15e8b0ee",
   "metadata": {},
   "outputs": [],
   "source": [
    "# Isabel's code\n",
    "from ropt_aqc.spin_systems import get_brickwall_trotter_gates_spin_chain\n",
    "from ropt_aqc.circuit_building import transform_to_bw_qc_unitarygate\n",
    "\n",
    "gates_bw_h = get_brickwall_trotter_gates_spin_chain(t=evolution_time, n_sites=num_sites, n_repetitions=n_repetitions, hamiltonian=system, degree=degree, J=J, h=h)\n",
    "\n",
    "bw_qc_h = transform_to_bw_qc_unitarygate(num_sites=num_sites, system = system, gates=gates_bw_h, pauli_terms=terms_h)\n",
    "depth_h = bw_qc_h.depth()\n",
    "bw_qc_h.draw('mpl')"
   ]
  },
  {
   "cell_type": "code",
   "execution_count": null,
   "id": "91aa7aca",
   "metadata": {},
   "outputs": [],
   "source": [
    "# my code\n",
    "from ropt_aqc.trotterised_bw_cirucit import get_trotterised_gates, build_make_gate\n",
    "\n",
    "make_gate_fn_h = build_make_gate(system, J=J, h=h)\n",
    "\n",
    "gates_h_2 = get_trotterised_gates(evolution_time, num_sites, n_repetitions, degree, system, make_gate_fn=make_gate_fn_h, use_TN=False)\n",
    "bw_qc_h_2 = transform_to_bw_qc_unitarygate(num_sites=num_sites, system = system, gates=gates_h_2, pauli_terms=terms_h)\n",
    "depth_initial_h_2= bw_qc_h_2.depth()\n",
    "bw_qc_h_2.draw('mpl')"
   ]
  },
  {
   "cell_type": "code",
   "execution_count": null,
   "id": "26703cf9",
   "metadata": {},
   "outputs": [],
   "source": [
    "# similarity\n",
    "from qiskit.quantum_info import Operator\n",
    "\n",
    "U1 = Operator(bw_qc_h)\n",
    "U2 = Operator(bw_qc_h_2)\n",
    "\n",
    "same = U1.equiv(U2)  # returns True if unitaries are equivalent up to global phase\n",
    "print(same)\n",
    "same2 = bw_qc_h == bw_qc_h_2\n",
    "print(same2)\n"
   ]
  },
  {
   "cell_type": "markdown",
   "id": "1e263d6f",
   "metadata": {},
   "source": [
    "Fermi hubbard 1D"
   ]
  },
  {
   "cell_type": "code",
   "execution_count": 1,
   "id": "e799f335",
   "metadata": {},
   "outputs": [],
   "source": [
    "system = 'fermi-hubbard-1d'\n",
    "n_sites = 6\n",
    "degree = 2\n",
    "n_id_layers = 0\n",
    "n_repetitions = 1\n",
    "t = 0.3\n",
    "n_orbitals = 2 * n_sites"
   ]
  },
  {
   "cell_type": "code",
   "execution_count": 2,
   "id": "f959fdeb",
   "metadata": {},
   "outputs": [
    {
     "data": {
      "text/plain": [
       "{'hamiltonian': 'fermi-hubbard-1d',\n",
       " 'n_sites': 6,\n",
       " 'degree': 2,\n",
       " 'n_repetitions': 1,\n",
       " 'n_id_layers': 0,\n",
       " 't': 0.3,\n",
       " 'disordered': False,\n",
       " 'load': False,\n",
       " 'load_reference': True,\n",
       " 'normalize_reference': True,\n",
       " 'ref_nbr': 1,\n",
       " 'lr': '1e-3',\n",
       " 'n_iter': 100,\n",
       " 'optimizer': 'ADAM',\n",
       " 'max_bondim': 128}"
      ]
     },
     "execution_count": 2,
     "metadata": {},
     "output_type": "execute_result"
    }
   ],
   "source": [
    "import yaml\n",
    "import os\n",
    "# config\n",
    "repo_root = \"/Users/aag/Documents/ropt-aqc/\"\n",
    "config_path = os.path.join(repo_root, \"run/fermi-hubbard-1d/configs/config.yml\")\n",
    "\n",
    "with open(config_path, \"r\") as f:\n",
    "    config = yaml.safe_load(f)\n",
    "\n",
    "config"
   ]
  },
  {
   "cell_type": "code",
   "execution_count": 3,
   "id": "200c3d8e",
   "metadata": {},
   "outputs": [],
   "source": [
    "from ropt_aqc.save_model import load_reference\n",
    "\n",
    "config['reference_dir'] = f'/Users/aag/Documents/ropt-aqc/run/{system}/reference'\n",
    "\n",
    "U_ref, t, _, _, _, _, _, _, _, T, V = load_reference(\n",
    "                config['reference_dir'], int(config['n_sites']/2), config['n_repetitions'], config['t']) "
   ]
  },
  {
   "cell_type": "code",
   "execution_count": 4,
   "id": "f4d680fc",
   "metadata": {},
   "outputs": [
    {
     "name": "stdout",
     "output_type": "stream",
     "text": [
      "12\n",
      "5\n"
     ]
    },
    {
     "data": {
      "image/png": "[encoded data removed]",
      "text/plain": [
       "<Figure size 956.385x535.111 with 1 Axes>"
      ]
     },
     "execution_count": 4,
     "metadata": {},
     "output_type": "execute_result"
    }
   ],
   "source": [
    "# Isabels code\n",
    "from ropt_aqc.brickwall_circuit import get_initial_gates\n",
    "from ropt_aqc.circuit_building import transform_to_bw_qc_unitarygate\n",
    "\n",
    "Vlist_start_fh = get_initial_gates(n_sites, t, n_repetitions, degree, system, n_id_layers, use_TN=False, T=-T, V=-V)\n",
    "print(len(Vlist_start_fh))\n",
    "bw_qc_fh = transform_to_bw_qc_unitarygate(num_sites=n_sites, system = system, gates=Vlist_start_fh)\n",
    "depth_initial_fh = bw_qc_fh.depth()\n",
    "print(depth_initial_fh)\n",
    "bw_qc_fh.draw('mpl')\n"
   ]
  },
  {
   "cell_type": "code",
   "execution_count": 5,
   "id": "208a8bfc",
   "metadata": {},
   "outputs": [
    {
     "name": "stdout",
     "output_type": "stream",
     "text": [
      "Number of gates: 12\n"
     ]
    },
    {
     "data": {
      "image/png": "[encoded data removed]",
      "text/plain": [
       "<Figure size 956.385x535.111 with 1 Axes>"
      ]
     },
     "execution_count": 5,
     "metadata": {},
     "output_type": "execute_result"
    }
   ],
   "source": [
    "# my code\n",
    "from ropt_aqc.trotterised_bw_cirucit import build_make_gate_fermionic, get_trotterised_gates\n",
    "\n",
    "\n",
    "make_gate_fn = build_make_gate_fermionic(T, V)\n",
    "\n",
    "gates_fh = get_trotterised_gates(t, n_sites, n_repetitions, degree, \"fermionic\", T=T, V=V, make_gate_fn=make_gate_fn, use_TN=False)\n",
    "print(f\"Number of gates: {len(gates_fh)}\")\n",
    "\n",
    "bw_qc_fh_2 = transform_to_bw_qc_unitarygate(num_sites=n_sites, system = system, gates=gates_fh)\n",
    "depth_initial_fh_2 = bw_qc_fh_2.depth()\n",
    "bw_qc_fh_2.draw('mpl')"
   ]
  },
  {
   "cell_type": "code",
   "execution_count": 6,
   "id": "4cfb7089",
   "metadata": {},
   "outputs": [
    {
     "name": "stdout",
     "output_type": "stream",
     "text": [
      "Gate 0 differs (up to phase).\n",
      "Gate 1 differs (up to phase).\n",
      "Gate 2 differs (up to phase).\n",
      "Gate 3 differs (up to phase).\n",
      "Gate 4 differs (up to phase).\n",
      "Gate 7 differs (up to phase).\n",
      "Gate 8 differs (up to phase).\n",
      "Gate 9 differs (up to phase).\n",
      "Gate 10 differs (up to phase).\n",
      "Gate 11 differs (up to phase).\n",
      "❌ Some gates differ.\n"
     ]
    },
    {
     "data": {
      "text/plain": [
       "False"
      ]
     },
     "execution_count": 6,
     "metadata": {},
     "output_type": "execute_result"
    }
   ],
   "source": [
    "# check gates\n",
    "import numpy as np\n",
    "\n",
    "def compare_gate_lists(gates1, gates2, atol=1e-8, up_to_phase=False):\n",
    "    gates1 = np.asarray(gates1)\n",
    "    gates2 = np.asarray(gates2)\n",
    "\n",
    "    if gates1.shape != gates2.shape:\n",
    "        print(f\"Different shapes: {gates1.shape} vs {gates2.shape}\")\n",
    "        return False\n",
    "\n",
    "    n_gates = len(gates1)\n",
    "    all_close = True\n",
    "\n",
    "    for idx in range(n_gates):\n",
    "        g1 = gates1[idx]\n",
    "        g2 = gates2[idx]\n",
    "\n",
    "        if up_to_phase:\n",
    "            phase = np.vdot(g1.flatten(), g2.flatten()) / np.vdot(g1.flatten(), g1.flatten())\n",
    "            g1_phase_corrected = g1 * np.conj(phase)\n",
    "            if not np.allclose(g1_phase_corrected, g2, atol=atol):\n",
    "                print(f\"Gate {idx} differs (up to phase).\")\n",
    "                all_close = False\n",
    "        else:\n",
    "            if not np.allclose(g1, g2, atol=atol):\n",
    "                print(f\"Gate {idx} differs.\")\n",
    "                all_close = False\n",
    "\n",
    "    if all_close:\n",
    "        print(\"✅ All gates match.\")\n",
    "    else:\n",
    "        print(\"❌ Some gates differ.\")\n",
    "    return all_close\n",
    "\n",
    "compare_gate_lists(Vlist_start_fh, gates_fh, up_to_phase=True)\n"
   ]
  },
  {
   "cell_type": "code",
   "execution_count": 7,
   "id": "2c9c0baf",
   "metadata": {},
   "outputs": [
    {
     "name": "stdout",
     "output_type": "stream",
     "text": [
      "False\n",
      "False\n"
     ]
    }
   ],
   "source": [
    "# similarity\n",
    "from qiskit.quantum_info import Operator\n",
    "\n",
    "U1 = Operator(bw_qc_fh)\n",
    "U2 = Operator(bw_qc_fh_2)\n",
    "\n",
    "same = U1.equiv(U2)  # returns True if unitaries are equivalent up to global phase\n",
    "print(same)\n",
    "same2 = bw_qc_fh == bw_qc_fh_2\n",
    "print(same2)\n"
   ]
  },
  {
   "cell_type": "markdown",
   "id": "cb7afbd6",
   "metadata": {},
   "source": [
    "# Testing gate qubit remapping"
   ]
  },
  {
   "cell_type": "code",
   "execution_count": 1,
   "id": "577f674c",
   "metadata": {},
   "outputs": [],
   "source": [
    "import jax.numpy as jnp\n",
    "import numpy as np\n",
    "\n",
    "def make_swap_gate_44():\n",
    "    return jnp.array([\n",
    "        [1, 0, 0, 0],\n",
    "        [0, 0, 1, 0],\n",
    "        [0, 1, 0, 0],\n",
    "        [0, 0, 0, 1]\n",
    "    ])\n",
    "\n",
    "\n",
    "def make_swap_gate_2222():\n",
    "    gate = jnp.zeros((2,2,2,2))\n",
    "    gate = gate.at[0,0,0,0].set(1)\n",
    "    gate = gate.at[0,1,1,0].set(1)\n",
    "    gate = gate.at[1,0,0,1].set(1)\n",
    "    gate = gate.at[1,1,1,1].set(1)\n",
    "    return gate\n",
    "\n",
    "def is_swap_gate_44(g):\n",
    "    expected = make_swap_gate_44()\n",
    "    return jnp.allclose(g, expected)\n",
    "\n",
    "def is_swap_gate_2222(g):\n",
    "    expected = make_swap_gate_2222()\n",
    "    return jnp.allclose(g, expected)\n"
   ]
  },
  {
   "cell_type": "code",
   "execution_count": 2,
   "id": "6c5f6765",
   "metadata": {},
   "outputs": [
    {
     "name": "stdout",
     "output_type": "stream",
     "text": [
      "✅ test_get_qubit_mapping passed.\n"
     ]
    }
   ],
   "source": [
    "# test get_qubit_mapping\n",
    "from ropt_aqc.circuit_building import get_qubit_mapping\n",
    "\n",
    "def test_get_qubit_mapping():\n",
    "    n = 4\n",
    "    expected_mirror = {0: 3, 1: 2, 2: 1, 3: 0}\n",
    "    expected_identity = {0: 0, 1: 1, 2: 2, 3: 3}\n",
    "\n",
    "    assert get_qubit_mapping(n, 'top-to-bottom') == expected_identity\n",
    "    assert get_qubit_mapping(n, 'right-to-left') == expected_identity\n",
    "    assert get_qubit_mapping(n, 'bottom-to-top') == expected_mirror\n",
    "    assert get_qubit_mapping(n, 'left-to-right') == expected_mirror\n",
    "\n",
    "    print(\"✅ test_get_qubit_mapping passed.\")\n",
    "\n",
    "test_get_qubit_mapping()\n"
   ]
  },
  {
   "cell_type": "code",
   "execution_count": 13,
   "id": "0e399068",
   "metadata": {},
   "outputs": [
    {
     "name": "stdout",
     "output_type": "stream",
     "text": [
      "✅ test_remap_gate_qubits_swap_behavior passed.\n",
      "✅ remap_gate_qubits tests passed.\n"
     ]
    }
   ],
   "source": [
    "from ropt_aqc.circuit_building import remap_gate_qubits, remap_brickwall_gates\n",
    "\n",
    "def test_remap_gate_qubits_swap_behavior():\n",
    "    # 4x4 swap\n",
    "    original = make_swap_gate_44()\n",
    "    flipped = remap_gate_qubits(original, orig_pair=(0, 1), new_pair=(1, 0))\n",
    "    assert is_swap_gate_44(flipped)\n",
    "\n",
    "    # 2x2x2x2 swap\n",
    "    original_tn = make_swap_gate_2222()\n",
    "    flipped_tn = remap_gate_qubits(original_tn, orig_pair=(0, 1), new_pair=(1, 0))\n",
    "    assert is_swap_gate_2222(flipped_tn)\n",
    "\n",
    "    print(\"✅ test_remap_gate_qubits_swap_behavior passed.\")\n",
    "\n",
    "test_remap_gate_qubits_swap_behavior()\n",
    "\n",
    "def test_remap_gate_qubits():\n",
    "    G = make_swap_gate_44()\n",
    "\n",
    "    # Case 1: no change in order\n",
    "    G1 = remap_gate_qubits(G, (0,1), (0,1))\n",
    "    assert jnp.allclose(G, G1), \"Gate should be unchanged\"\n",
    "\n",
    "    # Case 2: swap needed\n",
    "    G2 = remap_gate_qubits(G, (0,1), (1,0))\n",
    "    perm = jnp.array([0,2,1,3])\n",
    "    G_expected = G[jnp.ix_(perm, perm)]\n",
    "    assert jnp.allclose(G2, G_expected), \"Gate should be swapped internally\"\n",
    "\n",
    "    print(\"✅ remap_gate_qubits tests passed.\")\n",
    "\n",
    "test_remap_gate_qubits()\n"
   ]
  },
  {
   "cell_type": "code",
   "execution_count": 14,
   "id": "8025952e",
   "metadata": {},
   "outputs": [
    {
     "name": "stdout",
     "output_type": "stream",
     "text": [
      "Original gate order (top-to-bottom):\n",
      "Gate 0:\n",
      " [[ 1.+0.j  0.+0.j  0.+0.j  0.+0.j]\n",
      " [ 0.+0.j  0.+1.j  0.+0.j  0.+0.j]\n",
      " [ 0.+0.j  0.+0.j -1.+0.j  0.+0.j]\n",
      " [ 0.+0.j  0.+0.j  0.+0.j  1.+0.j]]\n",
      "Gate 1:\n",
      " [[ 1.+0.j  0.+0.j  0.+0.j  0.+0.j]\n",
      " [ 0.+0.j  0.+1.j  0.+0.j  0.+0.j]\n",
      " [ 0.+0.j  0.+0.j -1.+0.j  0.+0.j]\n",
      " [ 0.+0.j  0.+0.j  0.+0.j  1.+0.j]]\n",
      "Gate 2:\n",
      " [[ 1.+0.j  0.+0.j  0.+0.j  0.+0.j]\n",
      " [ 0.+0.j  0.+1.j  0.+0.j  0.+0.j]\n",
      " [ 0.+0.j  0.+0.j -1.+0.j  0.+0.j]\n",
      " [ 0.+0.j  0.+0.j  0.+0.j  1.+0.j]]\n",
      "Gate 3:\n",
      " [[ 1.+0.j  0.+0.j  0.+0.j  0.+0.j]\n",
      " [ 0.+0.j  0.+1.j  0.+0.j  0.+0.j]\n",
      " [ 0.+0.j  0.+0.j -1.+0.j  0.+0.j]\n",
      " [ 0.+0.j  0.+0.j  0.+0.j  1.+0.j]]\n",
      "\n",
      "Remapped gate order (left-to-right):\n",
      "Gate 0:\n",
      " ('G1', Array([[ 1.+0.j,  0.+0.j,  0.+0.j,  0.+0.j],\n",
      "       [ 0.+0.j, -1.+0.j,  0.+0.j,  0.+0.j],\n",
      "       [ 0.+0.j,  0.+0.j,  0.+1.j,  0.+0.j],\n",
      "       [ 0.+0.j,  0.+0.j,  0.+0.j,  1.+0.j]], dtype=complex64))\n",
      "Gate 1:\n",
      " ('G0', Array([[ 1.+0.j,  0.+0.j,  0.+0.j,  0.+0.j],\n",
      "       [ 0.+0.j, -1.+0.j,  0.+0.j,  0.+0.j],\n",
      "       [ 0.+0.j,  0.+0.j,  0.+1.j,  0.+0.j],\n",
      "       [ 0.+0.j,  0.+0.j,  0.+0.j,  1.+0.j]], dtype=complex64))\n",
      "Gate 2:\n",
      " ('G2', Array([[ 1.+0.j,  0.+0.j,  0.+0.j,  0.+0.j],\n",
      "       [ 0.+0.j, -1.+0.j,  0.+0.j,  0.+0.j],\n",
      "       [ 0.+0.j,  0.+0.j,  0.+1.j,  0.+0.j],\n",
      "       [ 0.+0.j,  0.+0.j,  0.+0.j,  1.+0.j]], dtype=complex64))\n"
     ]
    }
   ],
   "source": [
    "import jax.numpy as jnp\n",
    "\n",
    "def make_asymmetric_gate_44():\n",
    "    return jnp.array([\n",
    "        [1, 0, 0, 0],\n",
    "        [0, 1j, 0, 0],\n",
    "        [0, 0, -1, 0],\n",
    "        [0, 0, 0, 1]\n",
    "    ])\n",
    "\n",
    "n_sites = 4\n",
    "gates = jnp.stack([make_asymmetric_gate_44() for _ in range(4)])\n",
    "labels = [f\"G{i}\" for i in range(len(gates))]\n",
    "\n",
    "def test_remap_brickwall():\n",
    "    remapped = remap_brickwall_gates(gates, labels, n_sites, qubit_direction='left-to-right')\n",
    "    \n",
    "    # Print results\n",
    "    print(\"Original gate order (top-to-bottom):\")\n",
    "    for idx, g in enumerate(gates):\n",
    "        print(f\"Gate {idx}:\\n\", g)\n",
    "    \n",
    "    print(\"\\nRemapped gate order (left-to-right):\")\n",
    "    for idx, g in enumerate(remapped):\n",
    "        print(f\"Gate {idx}:\\n\", g)\n",
    "\n",
    "test_remap_brickwall()"
   ]
  },
  {
   "cell_type": "code",
   "execution_count": 15,
   "id": "13af28d5",
   "metadata": {},
   "outputs": [
    {
     "data": {
      "image/png": "[encoded data removed]",
      "text/plain": [
       "<Figure size 287.496x367.889 with 1 Axes>"
      ]
     },
     "execution_count": 15,
     "metadata": {},
     "output_type": "execute_result"
    }
   ],
   "source": [
    "from qiskit import QuantumCircuit, QuantumRegister\n",
    "from qiskit.quantum_info import Operator\n",
    "import jax.numpy as jnp\n",
    "from qiskit.circuit.library import UnitaryGate\n",
    "\n",
    "# Build left-to-right layout using reverse wire ordering\n",
    "def build_logical_left_to_right_circuit(n_sites, gates):\n",
    "    qreg = QuantumRegister(n_sites, \"q\")\n",
    "    qc = QuantumCircuit(qreg)\n",
    "    wire_order = list(reversed(qreg))  # left-to-right\n",
    "\n",
    "    g_idx = 0\n",
    "    for i in range(0, n_sites - 1, 2):\n",
    "        if g_idx >= len(gates): break\n",
    "        qc.append(UnitaryGate(np.array(gates[g_idx]), label=f\"G{g_idx}\"), [wire_order[i], wire_order[i + 1]])\n",
    "        g_idx += 1\n",
    "    for i in range(1, n_sites - 1, 2):\n",
    "        if g_idx >= len(gates): break\n",
    "        qc.append(UnitaryGate(np.array(gates[g_idx]), label=f\"G{g_idx}\"), [wire_order[i], wire_order[i + 1]])\n",
    "        g_idx += 1\n",
    "    return qc\n",
    "\n",
    "\n",
    "gates = jnp.stack([make_asymmetric_gate_44() for _ in range(4)])\n",
    "\n",
    "    # Step 2: Build original circuit (no remap, assuming left-to-right layout)\n",
    "circuit_original = build_logical_left_to_right_circuit(4, gates)\n",
    "circuit_original.draw('mpl')"
   ]
  },
  {
   "cell_type": "code",
   "execution_count": 16,
   "id": "cfb4aaaa",
   "metadata": {},
   "outputs": [
    {
     "data": {
      "image/png": "[encoded data removed]",
      "text/plain": [
       "<Figure size 287.496x367.889 with 1 Axes>"
      ]
     },
     "execution_count": 16,
     "metadata": {},
     "output_type": "execute_result"
    }
   ],
   "source": [
    "from ropt_aqc.circuit_building import transform_to_bw_qc_unitarygate\n",
    "labels = [f\"G{i}\" for i in range(len(gates))]\n",
    "\n",
    "remapped = remap_brickwall_gates(gates, labels, n_sites)\n",
    "\n",
    "# Unzip into two lists\n",
    "remapped_labels, remapped_gates = zip(*remapped)\n",
    "\n",
    "# Then pass both to your circuit builder\n",
    "remapped_circuit = transform_to_bw_qc_unitarygate(\n",
    "    n_sites,\n",
    "    jnp.stack(remapped_gates),\n",
    "    labels=list(remapped_labels)\n",
    ")\n",
    "\n",
    "remapped_circuit.draw('mpl')"
   ]
  },
  {
   "cell_type": "code",
   "execution_count": 17,
   "id": "5c742ddc",
   "metadata": {},
   "outputs": [
    {
     "name": "stdout",
     "output_type": "stream",
     "text": [
      "✅ Circuits are functionally equivalent (unitary match).\n",
      "\n",
      "Original:\n",
      "     ┌─────┐       \n",
      "q_0: ┤1    ├───────\n",
      "     │  G1 │┌─────┐\n",
      "q_1: ┤0    ├┤1    ├\n",
      "     ├─────┤│  G2 │\n",
      "q_2: ┤1    ├┤0    ├\n",
      "     │  G0 │└─────┘\n",
      "q_3: ┤0    ├───────\n",
      "     └─────┘       \n",
      "\n",
      "Remapped:\n",
      "     ┌─────┐       \n",
      "q_0: ┤0    ├───────\n",
      "     │  G1 │┌─────┐\n",
      "q_1: ┤1    ├┤0    ├\n",
      "     ├─────┤│  G2 │\n",
      "q_2: ┤0    ├┤1    ├\n",
      "     │  G0 │└─────┘\n",
      "q_3: ┤1    ├───────\n",
      "     └─────┘       \n"
     ]
    }
   ],
   "source": [
    "n_sites = 4\n",
    "gates = jnp.stack([make_asymmetric_gate_44() for _ in range(4)])\n",
    "labels = [f\"G{i}\" for i in range(len(gates))]\n",
    "\n",
    "# Original circuit (left-to-right logic, reversed wire order)\n",
    "circuit_original = build_logical_left_to_right_circuit(n_sites, gates)\n",
    "\n",
    "# Remapped circuit (top-to-bottom Qiskit layout)\n",
    "labels = [f\"G{i}\" for i in range(len(gates))]\n",
    "\n",
    "# Returns: List of (label, remapped_gate)\n",
    "remapped = remap_brickwall_gates(gates, labels, n_sites)\n",
    "\n",
    "# Unzip into two lists\n",
    "remapped_labels, remapped_gates = zip(*remapped)\n",
    "\n",
    "# Then pass both to your circuit builder\n",
    "remapped_circuit = transform_to_bw_qc_unitarygate(\n",
    "    n_sites,\n",
    "    jnp.stack(remapped_gates),\n",
    "    labels=list(remapped_labels)\n",
    ")\n",
    "\n",
    "# Compare full matrices\n",
    "U_orig = Operator(circuit_original).data\n",
    "U_remap = Operator(remapped_circuit).data\n",
    "\n",
    "assert jnp.allclose(U_orig, U_remap, atol=1e-6)\n",
    "print(\"✅ Circuits are functionally equivalent (unitary match).\")\n",
    "\n",
    "# Optional: show both circuits side-by-side\n",
    "print(\"\\nOriginal:\")\n",
    "print(circuit_original.draw(fold=-1))\n",
    "\n",
    "print(\"\\nRemapped:\")\n",
    "print(remapped_circuit.draw(fold=-1))\n"
   ]
  },
  {
   "cell_type": "code",
   "execution_count": 11,
   "id": "794681a6",
   "metadata": {},
   "outputs": [
    {
     "name": "stdout",
     "output_type": "stream",
     "text": [
      "✅ Is unitary: True\n",
      "✅ Remapped is still SWAP: True\n"
     ]
    }
   ],
   "source": [
    "import numpy as np\n",
    "\n",
    "def make_swap_gate_44():\n",
    "    return np.array([\n",
    "        [1, 0, 0, 0],\n",
    "        [0, 0, 1, 0],\n",
    "        [0, 1, 0, 0],\n",
    "        [0, 0, 0, 1]\n",
    "    ], dtype=complex)\n",
    "\n",
    "def remap_gate_qubits(gate: np.ndarray, orig_pair: tuple, new_pair: tuple) -> np.ndarray:\n",
    "    orig_dir = orig_pair[0] < orig_pair[1]\n",
    "    new_dir = new_pair[0] < new_pair[1]\n",
    "    swap = orig_dir != new_dir\n",
    "\n",
    "    if gate.shape != (4, 4):\n",
    "        raise ValueError(\"Gate must be 4x4\")\n",
    "    \n",
    "    if not swap:\n",
    "        return gate\n",
    "    else:\n",
    "        perm = [0, 2, 1, 3]  # binary index: 00, 01, 10, 11\n",
    "        return gate[np.ix_(perm, perm)]\n",
    "\n",
    "# Test it\n",
    "original = make_swap_gate_44()\n",
    "remapped = remap_gate_qubits(original, orig_pair=(0, 1), new_pair=(1, 0))\n",
    "\n",
    "# Validate unitarity and check if it's still a SWAP\n",
    "is_unitary = np.allclose(remapped.conj().T @ remapped, np.eye(4), atol=1e-8)\n",
    "is_swap = np.allclose(remapped, original)\n",
    "\n",
    "print(\"✅ Is unitary:\", is_unitary)\n",
    "print(\"✅ Remapped is still SWAP:\", is_swap)\n"
   ]
  },
  {
   "cell_type": "code",
   "execution_count": null,
   "id": "376175c7",
   "metadata": {},
   "outputs": [],
   "source": []
  }
 ],
 "metadata": {
  "kernelspec": {
   "display_name": "ropt-aqc_venv",
   "language": "python",
   "name": "python3"
  },
  "language_info": {
   "codemirror_mode": {
    "name": "ipython",
    "version": 3
   },
   "file_extension": ".py",
   "mimetype": "text/x-python",
   "name": "python",
   "nbconvert_exporter": "python",
   "pygments_lexer": "ipython3",
   "version": "3.12.9"
  }
 },
 "nbformat": 4,
 "nbformat_minor": 5
}
